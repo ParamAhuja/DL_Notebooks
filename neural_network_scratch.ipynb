{
  "nbformat": 4,
  "nbformat_minor": 0,
  "metadata": {
    "colab": {
      "provenance": [],
      "authorship_tag": "ABX9TyPY+Kesit9v8KZAoy0XPhl5",
      "include_colab_link": true
    },
    "kernelspec": {
      "name": "python3",
      "display_name": "Python 3"
    },
    "language_info": {
      "name": "python"
    }
  },
  "cells": [
    {
      "cell_type": "markdown",
      "metadata": {
        "id": "view-in-github",
        "colab_type": "text"
      },
      "source": [
        "<a href=\"https://colab.research.google.com/github/ParamAhuja/DL_Notebooks/blob/main/neural_network_scratch.ipynb\" target=\"_parent\"><img src=\"https://colab.research.google.com/assets/colab-badge.svg\" alt=\"Open In Colab\"/></a>"
      ]
    },
    {
      "cell_type": "code",
      "execution_count": 1,
      "metadata": {
        "id": "zYhutGahNQ0D"
      },
      "outputs": [],
      "source": [
        "import pandas as pd\n",
        "import numpy as np"
      ]
    },
    {
      "cell_type": "code",
      "source": [
        "df = pd.DataFrame([\n",
        "    [8, 8, 4],\n",
        "    [7, 9, 5],\n",
        "    [6, 10, 6],\n",
        "    [5, 12, 7]\n",
        "], columns= [\"cgpa\", \"resume_score\", \"lpa\"])"
      ],
      "metadata": {
        "id": "HqEtfGVtNlVE"
      },
      "execution_count": 2,
      "outputs": []
    },
    {
      "cell_type": "code",
      "source": [
        "X, y = df.iloc[:, :-1], df.iloc[:, -1]"
      ],
      "metadata": {
        "id": "E7JxLxL2ODTM"
      },
      "execution_count": 3,
      "outputs": []
    },
    {
      "cell_type": "code",
      "source": [
        "from sklearn.preprocessing import MinMaxScaler\n",
        "X = MinMaxScaler().fit_transform(X)"
      ],
      "metadata": {
        "id": "QaqoGnhMOiPJ"
      },
      "execution_count": 4,
      "outputs": []
    },
    {
      "cell_type": "code",
      "source": [
        "X"
      ],
      "metadata": {
        "colab": {
          "base_uri": "https://localhost:8080/"
        },
        "id": "Z1HvNOSxOPS8",
        "outputId": "7f342549-6269-46d8-b93d-8026bf066152"
      },
      "execution_count": 5,
      "outputs": [
        {
          "output_type": "execute_result",
          "data": {
            "text/plain": [
              "array([[1.        , 0.        ],\n",
              "       [0.66666667, 0.25      ],\n",
              "       [0.33333333, 0.5       ],\n",
              "       [0.        , 1.        ]])"
            ]
          },
          "metadata": {},
          "execution_count": 5
        }
      ]
    },
    {
      "cell_type": "code",
      "source": [
        "y.values"
      ],
      "metadata": {
        "colab": {
          "base_uri": "https://localhost:8080/"
        },
        "id": "VIQgVh4POQ-i",
        "outputId": "2638b13b-8f16-4df1-f44c-15d329a1b2e0"
      },
      "execution_count": 6,
      "outputs": [
        {
          "output_type": "execute_result",
          "data": {
            "text/plain": [
              "array([4, 5, 6, 7])"
            ]
          },
          "metadata": {},
          "execution_count": 6
        }
      ]
    },
    {
      "cell_type": "markdown",
      "source": [
        "0. initialize parameters and visualize the architechture\n",
        "1. For each epoch, call the function that loops m times and takes random samples each time to find the gradient of loss and the loss, returns all them. which are then used to update the parameters and also to calculate the avg. loss."
      ],
      "metadata": {
        "id": "Goj1U9ziP_hc"
      }
    },
    {
      "cell_type": "code",
      "source": [
        "import matplotlib.pyplot as plt\n",
        "\n",
        "def draw_neural_net(ax, left, right, bottom, top, layer_sizes, layer_labels=None):\n",
        "    '''\n",
        "    Draw a simple feedforward neural network with matplotlib.\n",
        "\n",
        "    ax: matplotlib Axes object\n",
        "    left, right, bottom, top: boundaries of the drawing space\n",
        "    layer_sizes: list of number of neurons in each layer\n",
        "    layer_labels: optional list of strings for layer names\n",
        "    '''\n",
        "    v_spacing = (top - bottom) / float(max(layer_sizes))\n",
        "    h_spacing = (right - left) / float(len(layer_sizes) - 1)\n",
        "\n",
        "    # Nodes\n",
        "    for i, n in enumerate(layer_sizes):\n",
        "        layer_top = v_spacing * (n - 1) / 2. + (top + bottom) / 2.\n",
        "        for j in range(n):\n",
        "            circle = plt.Circle((left + i * h_spacing, layer_top - j * v_spacing), 0.03,\n",
        "                                color='w', ec='k', zorder=4)\n",
        "            ax.add_artist(circle)\n",
        "\n",
        "    # Edges\n",
        "    for i, (n_a, n_b) in enumerate(zip(layer_sizes[:-1], layer_sizes[1:])):\n",
        "        layer_top_a = v_spacing * (n_a - 1) / 2. + (top + bottom) / 2.\n",
        "        layer_top_b = v_spacing * (n_b - 1) / 2. + (top + bottom) / 2.\n",
        "        for j in range(n_a):\n",
        "            for k in range(n_b):\n",
        "                line = plt.Line2D([left + i * h_spacing, left + (i + 1) * h_spacing],\n",
        "                                  [layer_top_a - j * v_spacing, layer_top_b - k * v_spacing],\n",
        "                                  c='k', alpha=0.5)\n",
        "                ax.add_artist(line)\n",
        "\n",
        "    # Labels\n",
        "    if layer_labels:\n",
        "        for i, label in enumerate(layer_labels):\n",
        "            ax.text(left + i * h_spacing, top + 0.1, label, ha='center', fontsize=12, weight='bold')\n",
        "\n",
        "# Plot the network\n",
        "fig = plt.figure(figsize=(12, 6))\n",
        "ax = fig.gca()\n",
        "ax.axis('off')\n",
        "\n",
        "\n",
        "# Example: 3-layer NN with 3 input, 5 hidden, and 2 output neurons\n",
        "draw_neural_net(ax, .1, .9, .1, .9, [X.shape[1], 2, 1], layer_labels=[\"Input\", \"Hidden\", \"Output\"])\n",
        "plt.show()\n"
      ],
      "metadata": {
        "colab": {
          "base_uri": "https://localhost:8080/",
          "height": 513
        },
        "id": "a6XJNdXpOSqk",
        "outputId": "1931ee1e-de35-4183-9782-af11b5be6f24"
      },
      "execution_count": 7,
      "outputs": [
        {
          "output_type": "display_data",
          "data": {
            "text/plain": [
              "<Figure size 1200x600 with 1 Axes>"
            ],
            "image/png": "[encoded data removed]"
          },
          "metadata": {}
        }
      ]
    },
    {
      "cell_type": "code",
      "source": [
        "def init_param(layer_dim:list):\n",
        "  w = []\n",
        "  b = []\n",
        "  for i in range(len(layer_dim)-1):\n",
        "    w.append( np.ones((layer_dim[i], layer_dim[i+1])) )\n",
        "    b.append( np.zeros(layer_dim[i+1]) )\n",
        "  return w, b\n",
        "w, b = init_param([2, 2, 1])\n",
        "b\n",
        "# shape of b is fucked but whatever"
      ],
      "metadata": {
        "colab": {
          "base_uri": "https://localhost:8080/"
        },
        "id": "m5QLm11ATrH4",
        "outputId": "c138fcad-9f11-475b-86dd-0b8280e414e7"
      },
      "execution_count": 32,
      "outputs": [
        {
          "output_type": "execute_result",
          "data": {
            "text/plain": [
              "[array([0., 0.]), array([0.])]"
            ]
          },
          "metadata": {},
          "execution_count": 32
        }
      ]
    },
    {
      "cell_type": "code",
      "source": [
        "# def transpose(a):\n",
        "#   for i in range(len(a)): # 0,1\n",
        "#     for j in range(i):\n",
        "#       a[i][j], a[j][i] = a[j][i], a[i][j]\n",
        "#   return a\n",
        "# used reshape and simply .T instead"
      ],
      "metadata": {
        "id": "TF_DdLEYdMSX"
      },
      "execution_count": null,
      "outputs": []
    },
    {
      "cell_type": "code",
      "source": [
        "def forward_pass(x, w, b):\n",
        "  layer_count = len(w)\n",
        "  # for i in range(layer_count):\n",
        "\n",
        "  O = [x]\n",
        "  a=x\n",
        "  for k in range(layer_count):\n",
        "    w_k = w[k]\n",
        "    # print(w_k)\n",
        "    # w_t = w_k.reshape(-1,w_k.shape[0] )\n",
        "    w_t = w_k.T\n",
        "    a_t = a.reshape( a.shape[0], 1)\n",
        "    # print(x_t)\n",
        "    O.append(np.dot(w_t, a_t) + b[k].reshape(b[k].shape[0], 1))\n",
        "    a= O[-1]\n",
        "    # print(\"o:\", x)\n",
        "  return O\n",
        "\n",
        "print(forward_pass(X[0], w, b))"
      ],
      "metadata": {
        "colab": {
          "base_uri": "https://localhost:8080/"
        },
        "id": "XR2nCmf2b-6G",
        "outputId": "4d6bac3c-0103-4f36-ecee-13a3079d0e2d"
      },
      "execution_count": 53,
      "outputs": [
        {
          "output_type": "stream",
          "name": "stdout",
          "text": [
            "[array([1., 0.]), array([[1.],\n",
            "       [1.]]), array([[2.]])]\n"
          ]
        }
      ]
    },
    {
      "cell_type": "code",
      "source": [
        "forward_pass(X[0], w, b)"
      ],
      "metadata": {
        "colab": {
          "base_uri": "https://localhost:8080/"
        },
        "id": "eMs0p2IDSd35",
        "outputId": "3c33e1be-e62d-4589-cbb1-0844248df847"
      },
      "execution_count": 52,
      "outputs": [
        {
          "output_type": "execute_result",
          "data": {
            "text/plain": [
              "[array([1., 0.]),\n",
              " array([[1.],\n",
              "        [1.]]),\n",
              " array([[2.]])]"
            ]
          },
          "metadata": {},
          "execution_count": 52
        }
      ]
    },
    {
      "cell_type": "code",
      "source": [
        "def compute_loss(x, target, w, b):\n",
        "  O = forward_pass(x, w, b)\n",
        "  y_hat = O[-1]\n",
        "  error = target - y_hat\n",
        "  loss = error**2\n",
        "  dl_dy = -2* error\n",
        "\n",
        "  # now the gradients\n",
        "  layer_count = len(w) # no. of layers\n",
        "  layer_dim = [w[0].shape[0]]\n",
        "  for i in range(layer_count):\n",
        "    layer_dim.append(\n",
        "        w[i].shape[1]\n",
        "    )\n",
        "\n",
        "  w_gradients = []\n",
        "\n",
        "  for i in range(len(layer_dim)-1):\n",
        "    w_gradients.append( np.zeros((layer_dim[i], layer_dim[i+1])) )\n",
        "\n",
        "  for k in range(len(layer_dim)-1 ):    # each layer dim\n",
        "    for i in range(layer_dim[k]):       # each incoming node\n",
        "      for j in range(layer_dim[k+1]):   # each outgoing node\n",
        "        dj_dw_kij = dl_dy* 1 * O[k][i]      # calculate this !!!!!!!\n",
        "\n",
        "        w_gradients[k][i][j] += dj_dw_kij\n",
        "\n",
        "  b_gradients = []\n",
        "  for i in range(len(b)):\n",
        "    b_gradients.append( np.zeros(b[i].shape))\n",
        "\n",
        "  for i in range(len(b_gradients)):\n",
        "    for j in range(len(b_gradients[i])):\n",
        "      b_gradients[i][j] += dl_dy # calculate this!!!!!!!\n",
        "\n",
        "  return w_gradients,b_gradients, loss[0][0]\n",
        "wg, bg, l = compute_loss(X[0], y[0], w, b)\n",
        "wg"
      ],
      "metadata": {
        "id": "EY8x1Eytb0LR",
        "colab": {
          "base_uri": "https://localhost:8080/",
          "height": 315
        },
        "outputId": "344422af-3e3e-4525-ef26-0ae819f49be3"
      },
      "execution_count": 44,
      "outputs": [
        {
          "output_type": "error",
          "ename": "TypeError",
          "evalue": "only length-1 arrays can be converted to Python scalars",
          "traceback": [
            "\u001b[0;31m---------------------------------------------------------------------------\u001b[0m",
            "\u001b[0;31mTypeError\u001b[0m                                 Traceback (most recent call last)",
            "\u001b[0;32m/tmp/ipython-input-44-3329226641.py\u001b[0m in \u001b[0;36m<cell line: 0>\u001b[0;34m()\u001b[0m\n\u001b[1;32m     35\u001b[0m \u001b[0;34m\u001b[0m\u001b[0m\n\u001b[1;32m     36\u001b[0m   \u001b[0;32mreturn\u001b[0m \u001b[0mw_gradients\u001b[0m\u001b[0;34m,\u001b[0m\u001b[0mb_gradients\u001b[0m\u001b[0;34m,\u001b[0m \u001b[0mloss\u001b[0m\u001b[0;34m[\u001b[0m\u001b[0;36m0\u001b[0m\u001b[0;34m]\u001b[0m\u001b[0;34m[\u001b[0m\u001b[0;36m0\u001b[0m\u001b[0;34m]\u001b[0m\u001b[0;34m\u001b[0m\u001b[0;34m\u001b[0m\u001b[0m\n\u001b[0;32m---> 37\u001b[0;31m \u001b[0mwg\u001b[0m\u001b[0;34m,\u001b[0m \u001b[0mbg\u001b[0m\u001b[0;34m,\u001b[0m \u001b[0ml\u001b[0m \u001b[0;34m=\u001b[0m \u001b[0mcompute_loss\u001b[0m\u001b[0;34m(\u001b[0m\u001b[0mX\u001b[0m\u001b[0;34m[\u001b[0m\u001b[0;36m0\u001b[0m\u001b[0;34m]\u001b[0m\u001b[0;34m,\u001b[0m \u001b[0my\u001b[0m\u001b[0;34m[\u001b[0m\u001b[0;36m0\u001b[0m\u001b[0;34m]\u001b[0m\u001b[0;34m,\u001b[0m \u001b[0mw\u001b[0m\u001b[0;34m,\u001b[0m \u001b[0mb\u001b[0m\u001b[0;34m)\u001b[0m\u001b[0;34m\u001b[0m\u001b[0;34m\u001b[0m\u001b[0m\n\u001b[0m\u001b[1;32m     38\u001b[0m \u001b[0mwg\u001b[0m\u001b[0;34m\u001b[0m\u001b[0;34m\u001b[0m\u001b[0m\n",
            "\u001b[0;32m/tmp/ipython-input-44-3329226641.py\u001b[0m in \u001b[0;36mcompute_loss\u001b[0;34m(x, target, w, b)\u001b[0m\n\u001b[1;32m     22\u001b[0m     \u001b[0;32mfor\u001b[0m \u001b[0mi\u001b[0m \u001b[0;32min\u001b[0m \u001b[0mrange\u001b[0m\u001b[0;34m(\u001b[0m\u001b[0mlayer_dim\u001b[0m\u001b[0;34m[\u001b[0m\u001b[0mk\u001b[0m\u001b[0;34m]\u001b[0m\u001b[0;34m)\u001b[0m\u001b[0;34m:\u001b[0m       \u001b[0;31m# each incoming node\u001b[0m\u001b[0;34m\u001b[0m\u001b[0;34m\u001b[0m\u001b[0m\n\u001b[1;32m     23\u001b[0m       \u001b[0;32mfor\u001b[0m \u001b[0mj\u001b[0m \u001b[0;32min\u001b[0m \u001b[0mrange\u001b[0m\u001b[0;34m(\u001b[0m\u001b[0mlayer_dim\u001b[0m\u001b[0;34m[\u001b[0m\u001b[0mk\u001b[0m\u001b[0;34m+\u001b[0m\u001b[0;36m1\u001b[0m\u001b[0;34m]\u001b[0m\u001b[0;34m)\u001b[0m\u001b[0;34m:\u001b[0m   \u001b[0;31m# each outgoing node\u001b[0m\u001b[0;34m\u001b[0m\u001b[0;34m\u001b[0m\u001b[0m\n\u001b[0;32m---> 24\u001b[0;31m         \u001b[0mdj_dw_kij\u001b[0m \u001b[0;34m=\u001b[0m \u001b[0mdl_dy\u001b[0m\u001b[0;34m*\u001b[0m \u001b[0;36m1\u001b[0m \u001b[0;34m*\u001b[0m \u001b[0mfloat\u001b[0m\u001b[0;34m(\u001b[0m\u001b[0mO\u001b[0m\u001b[0;34m[\u001b[0m\u001b[0mk\u001b[0m\u001b[0;34m]\u001b[0m\u001b[0;34m[\u001b[0m\u001b[0mi\u001b[0m\u001b[0;34m]\u001b[0m\u001b[0;34m)\u001b[0m        \u001b[0;31m# calculate this !!!!!!!\u001b[0m\u001b[0;34m\u001b[0m\u001b[0;34m\u001b[0m\u001b[0m\n\u001b[0m\u001b[1;32m     25\u001b[0m \u001b[0;34m\u001b[0m\u001b[0m\n\u001b[1;32m     26\u001b[0m         \u001b[0mw_gradients\u001b[0m\u001b[0;34m[\u001b[0m\u001b[0mk\u001b[0m\u001b[0;34m]\u001b[0m\u001b[0;34m[\u001b[0m\u001b[0mi\u001b[0m\u001b[0;34m]\u001b[0m\u001b[0;34m[\u001b[0m\u001b[0mj\u001b[0m\u001b[0;34m]\u001b[0m \u001b[0;34m+=\u001b[0m \u001b[0mdj_dw_kij\u001b[0m\u001b[0;34m\u001b[0m\u001b[0;34m\u001b[0m\u001b[0m\n",
            "\u001b[0;31mTypeError\u001b[0m: only length-1 arrays can be converted to Python scalars"
          ]
        }
      ]
    },
    {
      "cell_type": "code",
      "source": [
        "def back_propagation(X, y, epochs, alpha, layer_dims):\n",
        "  w, b = init_param(layer_dims)\n",
        "  for u in range(epochs):\n",
        "    losses = []\n",
        "    for v in range(X.shape[0]):\n",
        "      selected = np.random.randint(0, X.shape[0])\n",
        "      sample = X[selected]\n",
        "      target = y[selected]\n",
        "      w_gradients, b_gradients, loss = compute_loss(sample,target, w, b)\n",
        "\n",
        "      for i in range(len(w_gradients)):\n",
        "        w_gradients[i] = alpha * w_gradients[i]\n",
        "        w[i] = w[i] - w_gradients[i]\n",
        "\n",
        "      for i in range(len(b)):\n",
        "        b[i] = b[i] - alpha * b_gradients[i]\n",
        "      losses.append(loss)\n",
        "    avg_loss = np.mean(losses)\n",
        "    print(f\"epoch: {u}, loss: {avg_loss}\")\n",
        "  return w, b\n",
        "back_propagation(X, y, epochs = 10, alpha = 0.1, layer_dims=[2,2,1])"
      ],
      "metadata": {
        "id": "YAN4C5ERZ0Nc",
        "colab": {
          "base_uri": "https://localhost:8080/"
        },
        "outputId": "9a7b8cc6-6f57-4029-e4c1-1d2d9212556b"
      },
      "execution_count": 40,
      "outputs": [
        {
          "output_type": "stream",
          "name": "stdout",
          "text": [
            "epoch: 0, loss: 23.34609179541024\n",
            "epoch: 1, loss: 40.26249632229151\n",
            "epoch: 2, loss: 6.110472897231615\n",
            "epoch: 3, loss: 16.584153334739742\n",
            "epoch: 4, loss: 1.9500167260682004\n",
            "epoch: 5, loss: 38.55912089906439\n",
            "epoch: 6, loss: 35.86433919166987\n",
            "epoch: 7, loss: 41.95080672537193\n",
            "epoch: 8, loss: 6.065585660686458\n",
            "epoch: 9, loss: 1.0509149103413322\n"
          ]
        },
        {
          "output_type": "stream",
          "name": "stderr",
          "text": [
            "/tmp/ipython-input-39-3998686423.py:25: DeprecationWarning: Conversion of an array with ndim > 0 to a scalar is deprecated, and will error in future. Ensure you extract a single element from your array before performing this operation. (Deprecated NumPy 1.25.)\n",
            "  w_gradients[k][i][j] += dj_dw_kij\n",
            "/tmp/ipython-input-39-3998686423.py:33: DeprecationWarning: Conversion of an array with ndim > 0 to a scalar is deprecated, and will error in future. Ensure you extract a single element from your array before performing this operation. (Deprecated NumPy 1.25.)\n",
            "  b_gradients[i][j] += dl_dy\n"
          ]
        },
        {
          "output_type": "execute_result",
          "data": {
            "text/plain": [
              "([array([[1.33490137, 1.33490137],\n",
              "         [1.33490137, 1.33490137]]),\n",
              "  array([[1.33490137],\n",
              "         [1.33490137]])],\n",
              " [array([0.33490137, 0.33490137]), array([0.33490137])])"
            ]
          },
          "metadata": {},
          "execution_count": 40
        }
      ]
    }
  ]
}